{
 "cells": [
  {
   "cell_type": "markdown",
   "metadata": {},
   "source": [
    "## Sources"
   ]
  },
  {
   "cell_type": "markdown",
   "metadata": {},
   "source": [
    "* [NPR, December 13th [1]](https://www.npr.org/2018/12/13/676300525/almost-15-000-migrant-children-now-held-at-nearly-full-shelters)\n",
    "* [SF Chronicle, November 9th, [2]](https://www.sfchronicle.com/nation/article/More-than-14-000-immigrant-children-are-in-U-S-13399510.php)\n",
    "* [Washington Post, August 30th, [3]](https://www.washingtonpost.com/local/immigration/still-separated-nearly-500-separated-migrant-children-remain-in-us-custody/2018/08/30/6dbd8278-aa09-11e8-8a0c-70b618c98d3c_story.html?utm_term=.db8790abe02a)\n",
    "* [CNN, December 10th, [4]](https://www.cnn.com/2018/12/10/politics/ice-potential-sponsors-arrests/index.html)\n",
    "* [CNN, September 14th, [5]](https://www.cnn.com/2018/09/14/politics/immigrant-children-kept-detention/index.html)\n",
    "* [WSJ, October 19th, [6]](https://www.wsj.com/articles/immigrant-children-are-staying-longer-in-government-custody-1539941401)\n",
    "* [Washington Post, May 29th, [7]](https://www.washingtonpost.com/world/national-security/trumps-zero-tolerance-at-the-border-is-causing-child-shelters-to-fill-up-fast/2018/05/29/7aab0ae4-636b-11e8-a69c-b944de66d9e7_story.html?utm_term=.831c55ba33e5)\n",
    "* [Guardian, September 21st, [8]](https://www.theguardian.com/us-news/2018/sep/21/ice-arrests-undocumented-immigrants-sponsoring-migrant-children)\n",
    "* [MoveOn, June 30th, [9]](https://act.moveon.org/event/families-belong-together_attend1/search/)"
   ]
  },
  {
   "cell_type": "markdown",
   "metadata": {},
   "source": [
    "## Plots"
   ]
  },
  {
   "cell_type": "code",
   "execution_count": null,
   "metadata": {
    "collapsed": false
   },
   "outputs": [],
   "source": [
    "time_evolution(df, 'Detained', 'Number of Detained Children By Date')"
   ]
  },
  {
   "cell_type": "code",
   "execution_count": null,
   "metadata": {
    "collapsed": false
   },
   "outputs": [],
   "source": [
    "time_evolution(df, 'Sponsors Arrested', 'Sponsors Arrested By Date')"
   ]
  },
  {
   "cell_type": "code",
   "execution_count": null,
   "metadata": {
    "collapsed": false
   },
   "outputs": [],
   "source": [
    "time_evolution(df, 'Detention Time Official (days)', 'Official Statement Of Detention Time By Date')"
   ]
  },
  {
   "cell_type": "code",
   "execution_count": null,
   "metadata": {
    "collapsed": false
   },
   "outputs": [],
   "source": [
    "time_evolution(df, 'Detention Time Unofficial (days)', 'Unofficial Statements On Detention Time By Date')"
   ]
  },
  {
   "cell_type": "markdown",
   "metadata": {},
   "source": [
    "## Raw Data"
   ]
  },
  {
   "cell_type": "code",
   "execution_count": null,
   "metadata": {
    "collapsed": false
   },
   "outputs": [],
   "source": [
    "df"
   ]
  },
  {
   "cell_type": "markdown",
   "metadata": {},
   "source": [
    "## Code"
   ]
  },
  {
   "cell_type": "code",
   "execution_count": null,
   "metadata": {
    "collapsed": false
   },
   "outputs": [],
   "source": [
    "%matplotlib inline\n",
    "import pandas as pd\n",
    "import numpy as np\n",
    "import datetime\n",
    "import collections\n",
    "\n",
    "import matplotlib.pyplot as plt\n",
    "plt.rcParams['figure.figsize'] = [15, 8]"
   ]
  },
  {
   "cell_type": "code",
   "execution_count": null,
   "metadata": {
    "collapsed": false
   },
   "outputs": [],
   "source": [
    "def make_row(link, date, detained=None, detention_time_official=None, detention_time_unofficial=None,\n",
    "             sponsors_arrested=None, cost=None, protest=False):\n",
    "    row_data = collections.OrderedDict()\n",
    "    row_data['Link'] = link\n",
    "    row_data['Date'] = date\n",
    "    row_data['Detained'] = detained\n",
    "    row_data['Detention Time Official (days)'] = detention_time_official\n",
    "    row_data['Detention Time Unofficial (days)'] = detention_time_unofficial\n",
    "    row_data['Sponsors Arrested'] = sponsors_arrested\n",
    "    row_data['Accumulated Cost ($million)'] = cost\n",
    "    row_data['Protest'] = protest\n",
    "    return row_data\n",
    "\n",
    "data = [\n",
    "    make_row(\n",
    "        1,\n",
    "        datetime.date(2018, 12, 13),\n",
    "        detained=14700,\n",
    "        detention_time_official=50,\n",
    "        detention_time_unofficial=243.334\n",
    "    ),\n",
    "    make_row(\n",
    "        2,\n",
    "        datetime.date(2018, 11, 9),\n",
    "        detained=14056,\n",
    "        cost=80\n",
    "    ),\n",
    "    make_row(\n",
    "        3,\n",
    "        datetime.date(2018, 8, 30),\n",
    "        detained=497\n",
    "    ),\n",
    "    make_row(\n",
    "        3,\n",
    "        datetime.date(2018, 7, 31),\n",
    "        detained=1200\n",
    "    ),\n",
    "    make_row(\n",
    "        3,\n",
    "        datetime.date(2018, 6, 20),\n",
    "        detained=2600\n",
    "    ),\n",
    "    make_row(\n",
    "        4,\n",
    "        datetime.date(2018, 7, 1),\n",
    "        sponsors_arrested=0\n",
    "    ),\n",
    "    make_row(\n",
    "        4,\n",
    "        datetime.date(2018, 11, 30),\n",
    "        sponsors_arrested=170\n",
    "    ),\n",
    "    make_row(\n",
    "        5,\n",
    "        datetime.date(2018, 9, 14),\n",
    "        detained=12800\n",
    "    ),\n",
    "    make_row(\n",
    "        6,\n",
    "        datetime.date(2018, 10, 19),\n",
    "        detention_time_official=59,\n",
    "        detention_time_unofficial=136\n",
    "    ),\n",
    "    make_row(\n",
    "        6,\n",
    "        datetime.date(2018, 6, 30),\n",
    "        detention_time_official=56\n",
    "    ),\n",
    "    make_row(\n",
    "        7,\n",
    "        datetime.date(2018, 5, 29),\n",
    "        detained=10073\n",
    "    ),\n",
    "    make_row(\n",
    "        7,\n",
    "        datetime.date(2018, 4, 29),\n",
    "        detained=8886\n",
    "    ),\n",
    "    make_row(\n",
    "        8,\n",
    "        datetime.date(2018, 9, 21),\n",
    "        sponsors_arrested=41\n",
    "    ),\n",
    "    make_row(\n",
    "        9,\n",
    "        datetime.date(2018, 6, 20),\n",
    "        protest=True\n",
    "    )\n",
    "]\n",
    "df = pd.DataFrame(data=data)\n",
    "df.sort_values(by='Date');"
   ]
  },
  {
   "cell_type": "code",
   "execution_count": null,
   "metadata": {
    "collapsed": false
   },
   "outputs": [],
   "source": [
    "def time_evolution(df, y_column, title):\n",
    "    ys_mask = np.isfinite(df[y_column].values)\n",
    "    ys = df[y_column].values[ys_mask]\n",
    "    xs = df.Date.values[ys_mask]\n",
    "    \n",
    "    xs, ys = zip( *sorted( zip(xs, ys) ) )\n",
    "    \n",
    "    plt.xlim = (\n",
    "        min(\n",
    "            df.Date.unique() - datetime.timedelta(days=5)\n",
    "        ),\n",
    "        max(\n",
    "            df.Date.unique() + datetime.timedelta(days=5)\n",
    "        )\n",
    "    )\n",
    "    plt.ylim = (\n",
    "        0.0,\n",
    "        max(\n",
    "            ys\n",
    "        )\n",
    "    )\n",
    "    \n",
    "    plt.plot(\n",
    "        xs,\n",
    "        ys,\n",
    "        marker='o'\n",
    "    )\n",
    "    plt.title(title)\n",
    "    plt.axvline(\n",
    "        x=df.Date[df.Protest == True].values,\n",
    "        color='red',\n",
    "        label='Protest'\n",
    "    )\n",
    "    plt.legend()"
   ]
  },
  {
   "cell_type": "code",
   "execution_count": null,
   "metadata": {
    "collapsed": true
   },
   "outputs": [],
   "source": []
  }
 ],
 "metadata": {
  "kernelspec": {
   "display_name": "Python 2",
   "language": "python",
   "name": "python2"
  },
  "language_info": {
   "codemirror_mode": {
    "name": "ipython",
    "version": 2
   },
   "file_extension": ".py",
   "mimetype": "text/x-python",
   "name": "python",
   "nbconvert_exporter": "python",
   "pygments_lexer": "ipython2",
   "version": "2.7.10"
  }
 },
 "nbformat": 4,
 "nbformat_minor": 0
}
