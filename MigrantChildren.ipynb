{
 "cells": [
  {
   "cell_type": "markdown",
   "metadata": {},
   "source": [
    "# Contents\n",
    "\n",
    "\n",
    "* ### <a name=\"Work\">Work</a>\n",
    "* ### <a name=\"RawData\">Raw Data</a>"
   ]
  },
  {
   "cell_type": "markdown",
   "metadata": {},
   "source": [
    "## [Work](#Work)"
   ]
  },
  {
   "cell_type": "markdown",
   "metadata": {},
   "source": [
    "The"
   ]
  },
  {
   "cell_type": "code",
   "execution_count": null,
   "metadata": {
    "collapsed": false
   },
   "outputs": [],
   "source": [
    "time_evolution(df, 'Detained', 'Number of Detained Children By Date')"
   ]
  },
  {
   "cell_type": "code",
   "execution_count": null,
   "metadata": {
    "collapsed": false
   },
   "outputs": [],
   "source": [
    "time_evolution(df, 'Sponsors Arrested', 'Sponsors Arrested By Date')"
   ]
  },
  {
   "cell_type": "code",
   "execution_count": null,
   "metadata": {
    "collapsed": false
   },
   "outputs": [],
   "source": [
    "time_evolution(df, 'Detention Time Official (days)', 'Official Statement Of Detention Time By Date')"
   ]
  },
  {
   "cell_type": "code",
   "execution_count": null,
   "metadata": {
    "collapsed": false
   },
   "outputs": [],
   "source": [
    "time_evolution(df, 'Detention Time Unofficial (days)', 'Unofficial Statements On Detention Time By Date')"
   ]
  },
  {
   "cell_type": "code",
   "execution_count": null,
   "metadata": {
    "collapsed": false
   },
   "outputs": [],
   "source": [
    "time_evolution(df, 'Accumulated Cost ($million)', 'Accumulated Cost ($million) By Date')"
   ]
  },
  {
   "cell_type": "markdown",
   "metadata": {},
   "source": [
    "## Summary"
   ]
  },
  {
   "cell_type": "markdown",
   "metadata": {},
   "source": [
    "Thread. The reporting on Trump’s immigration policy has been downright confusing (for me, at least). I spent hours last night reading old articles and immigration law to figure this out. Spoiler: Our government is really, truly building permanent internment camps on the border.\n",
    "\n",
    "1/ The number of detained children being reported about fluctuated wildly over time. This is because the metrics the media has been interested in have changed with time due to changing immigration policies.\n",
    "\n",
    "2/ When zero-tolerance policy was introduced in April, numbers reported were generally for all “unaccompanied alien children” (UAC) in custody. It had to be this way, once a child was separated they became unaccompanied. Prior, UAC status did not apply to children w/families\n",
    "\n",
    "3/ Reported numbers during late May (UAC including separated children): ~8000-10000\n",
    "\n",
    "4/ News articles at this time focused on children separated from their families, which is a number that could NOT be reported because it wasn’t split from UAC number. In early June, involved govt orgs supposedly did a scrub of UAC to find those which had been separated at the border.\n",
    "\n",
    "5/ Reported numbers during mid June (Separated children): ~2500\n",
    "\n",
    "6/ June 20th, under immense political pressure, that stupid orange guy signed an executive order to “keep” families together (in detention). The “compromise” through which this accomplished was the removal of something called the Flores agreement.\n",
    "\n",
    "7/ Flores rules that both a family w/children and UAC must be released within 20 days. The WH viewed this as a loophole that led to “catch and release”, which they wanted to end. So what was traded was family separation vs. indefinite detention of literally all children.\n",
    "\n",
    "8/ In addition to limits on the length of detention, Flores rules ensured basic services for all UAC such as education, medical care, etc.\n",
    "\n",
    "9/ During this time, the majority of the “original” separated children were handled. Reported numbers during late August (Separated children): ~500\n",
    "\n",
    "10/ After this, the press started to report on the total number of UAC. This does not include children who were originally reported on as being separated, because those children were now being detained with their families in adult detention centers.\n",
    "\n",
    "11/ Reported numbers during early September (new definition of UAC, minus some children who might have been separated): ~12000\n",
    "\n",
    "12/ The rules determining whether an adult “accompanied” a child were changed significantly as well. For example, an aunt traveling with a child might now not be considered close enough, and the child would then be UAC.\n",
    "\n",
    "13/ Health and Human Services (HHS) who are responsible for UAC are now required to share information on child sponsors with ICE, where they vet the entire household for “criminality”. This concept of criminality includes being in the US illegally.\n",
    "\n",
    "14/ Reported numbers during mid December (new definition of UAC, minus some children who might have been separated): ~14500\n",
    "\n",
    "15/ THE SITUATION IS GETTING WORSE."
   ]
  },
  {
   "cell_type": "markdown",
   "metadata": {},
   "source": [
    "## Sources"
   ]
  },
  {
   "cell_type": "markdown",
   "metadata": {},
   "source": [
    "Links are referred to by their bracketed number in the raw data, so each bit of data is traceable.\n",
    "\n",
    "In cases where a range is given (e.g. 4-6 months), the average of the range (5 months) is chosen.\n",
    "\n",
    "* [NPR, December 13th [1]](https://www.npr.org/2018/12/13/676300525/almost-15-000-migrant-children-now-held-at-nearly-full-shelters)\n",
    "* [SF Chronicle, November 9th, [2]](https://www.sfchronicle.com/nation/article/More-than-14-000-immigrant-children-are-in-U-S-13399510.php)\n",
    "* [Washington Post, August 30th, [3]](https://www.washingtonpost.com/local/immigration/still-separated-nearly-500-separated-migrant-children-remain-in-us-custody/2018/08/30/6dbd8278-aa09-11e8-8a0c-70b618c98d3c_story.html?utm_term=.db8790abe02a)\n",
    "* [CNN, December 10th, [4]](https://www.cnn.com/2018/12/10/politics/ice-potential-sponsors-arrests/index.html)\n",
    "* [CNN, September 14th, [5]](https://www.cnn.com/2018/09/14/politics/immigrant-children-kept-detention/index.html)\n",
    "* [WSJ, October 19th, [6]](https://www.wsj.com/articles/immigrant-children-are-staying-longer-in-government-custody-1539941401)\n",
    "* [Washington Post, May 29th, [7]](https://www.washingtonpost.com/world/national-security/trumps-zero-tolerance-at-the-border-is-causing-child-shelters-to-fill-up-fast/2018/05/29/7aab0ae4-636b-11e8-a69c-b944de66d9e7_story.html?utm_term=.831c55ba33e5)\n",
    "* [Guardian, September 21st, [8]](https://www.theguardian.com/us-news/2018/sep/21/ice-arrests-undocumented-immigrants-sponsoring-migrant-children)\n",
    "* [MoveOn, June 30th, [9]](https://act.moveon.org/event/families-belong-together_attend1/search/)\n",
    "* [NYT, November 25th, [10]](https://www.nytimes.com/2018/11/25/world/americas/tijuana-mexico-border.html)\n",
    "* [Washington Post, June 20th, [11]](https://www.washingtonpost.com/powerpost/gop-leaders-voice-hope-that-bill-addressing-family-separations-will-pass-thursday/2018/06/20/cc79db9a-7480-11e8-b4b7-308400242c2e_story.html)\n",
    "* [Washington Post, May 7th, [12]](https://www.washingtonpost.com/world/national-security/sessions-says-justice-dept-will-prosecute-every-person-who-crosses-border-unlawfully/2018/05/07/e1312b7e-5216-11e8-9c91-7dab596e8252_story.html)"
   ]
  },
  {
   "cell_type": "markdown",
   "metadata": {},
   "source": [
    "## [Raw Data](#RawData)"
   ]
  },
  {
   "cell_type": "code",
   "execution_count": null,
   "metadata": {
    "collapsed": false
   },
   "outputs": [],
   "source": [
    "df.sort_values(by='Date')"
   ]
  },
  {
   "cell_type": "markdown",
   "metadata": {},
   "source": [
    "## Code"
   ]
  },
  {
   "cell_type": "code",
   "execution_count": null,
   "metadata": {
    "collapsed": false
   },
   "outputs": [],
   "source": [
    "%matplotlib inline\n",
    "import pandas as pd\n",
    "import numpy as np\n",
    "import datetime\n",
    "import collections\n",
    "\n",
    "import matplotlib.pyplot as plt\n",
    "plt.rcParams['figure.figsize'] = [15, 8]"
   ]
  },
  {
   "cell_type": "code",
   "execution_count": null,
   "metadata": {
    "collapsed": false
   },
   "outputs": [],
   "source": [
    "def make_row(link, date, detained=None, detention_time_official=None, detention_time_unofficial=None,\n",
    "             sponsors_arrested=None, cost=None, protest=False, tear_gas=False, separation_eo=False, zero_tolerance=False):\n",
    "    row_data = collections.OrderedDict()\n",
    "    row_data['Link'] = link\n",
    "    row_data['Date'] = date\n",
    "    row_data['Detained'] = detained\n",
    "    row_data['Detention Time Official (days)'] = detention_time_official\n",
    "    row_data['Detention Time Unofficial (days)'] = detention_time_unofficial\n",
    "    row_data['Sponsors Arrested'] = sponsors_arrested\n",
    "    row_data['Accumulated Cost ($million)'] = cost\n",
    "    row_data['Protest'] = protest\n",
    "    row_data['Tear Gas'] = tear_gas\n",
    "    row_data['Family Separation EO'] = separation_eo\n",
    "    row_data['Zero Tolerance'] = zero_tolerance\n",
    "    return row_data\n",
    "\n",
    "data = [\n",
    "    make_row(\n",
    "        1,\n",
    "        datetime.date(2018, 12, 13),\n",
    "        detained=14700,\n",
    "        detention_time_official=50,\n",
    "        detention_time_unofficial=243.334\n",
    "    ),\n",
    "    make_row(\n",
    "        2,\n",
    "        datetime.date(2018, 11, 9),\n",
    "        detained=14056,\n",
    "        cost=80\n",
    "    ),\n",
    "    make_row(\n",
    "        3,\n",
    "        datetime.date(2018, 8, 30),\n",
    "        detained=497\n",
    "    ),\n",
    "    make_row(\n",
    "        3,\n",
    "        datetime.date(2018, 7, 31),\n",
    "        detained=1200\n",
    "    ),\n",
    "    make_row(\n",
    "        3,\n",
    "        datetime.date(2018, 6, 20),\n",
    "        detained=2600\n",
    "    ),\n",
    "    make_row(\n",
    "        4,\n",
    "        datetime.date(2018, 7, 1),\n",
    "        sponsors_arrested=0\n",
    "    ),\n",
    "    make_row(\n",
    "        4,\n",
    "        datetime.date(2018, 11, 30),\n",
    "        sponsors_arrested=170\n",
    "    ),\n",
    "    make_row(\n",
    "        5,\n",
    "        datetime.date(2018, 9, 14),\n",
    "        detained=12800\n",
    "    ),\n",
    "    make_row(\n",
    "        6,\n",
    "        datetime.date(2018, 10, 19),\n",
    "        detention_time_official=59,\n",
    "        detention_time_unofficial=136\n",
    "    ),\n",
    "    make_row(\n",
    "        6,\n",
    "        datetime.date(2018, 6, 30),\n",
    "        detention_time_official=56\n",
    "    ),\n",
    "    make_row(\n",
    "        7,\n",
    "        datetime.date(2018, 5, 29),\n",
    "        detained=10073\n",
    "    ),\n",
    "    make_row(\n",
    "        7,\n",
    "        datetime.date(2018, 4, 29),\n",
    "        detained=8886\n",
    "    ),\n",
    "    make_row(\n",
    "        8,\n",
    "        datetime.date(2018, 9, 21),\n",
    "        sponsors_arrested=41\n",
    "    ),\n",
    "    make_row(\n",
    "        9,\n",
    "        datetime.date(2018, 6, 30),\n",
    "        protest=True\n",
    "    ),\n",
    "    make_row(\n",
    "        10,\n",
    "        datetime.date(2018, 11, 25),\n",
    "        tear_gas=True\n",
    "    ),\n",
    "    make_row(\n",
    "        11,\n",
    "        datetime.date(2018, 6, 20),\n",
    "        separation_eo=True\n",
    "    ),\n",
    "    make_row(\n",
    "        12,\n",
    "        datetime.date(2018, 4, 7),\n",
    "        zero_tolerance=True\n",
    "    )\n",
    "]\n",
    "df = pd.DataFrame(data=data)"
   ]
  },
  {
   "cell_type": "code",
   "execution_count": null,
   "metadata": {
    "collapsed": false
   },
   "outputs": [],
   "source": [
    "def time_evolution(df, y_column, title):\n",
    "    ys_mask = np.isfinite(df[y_column].values)\n",
    "    ys = df[y_column].values[ys_mask]\n",
    "    xs = df.Date.values[ys_mask]\n",
    "    \n",
    "    xs, ys = zip( *sorted( zip(xs, ys) ) )\n",
    "    \n",
    "    plt.xlim = (\n",
    "        min(\n",
    "            df.Date.unique() - datetime.timedelta(days=20)\n",
    "        ),\n",
    "        max(\n",
    "            df.Date.unique() + datetime.timedelta(days=20)\n",
    "        )\n",
    "    )\n",
    "    plt.ylim = (\n",
    "        0.0,\n",
    "        max(\n",
    "            ys\n",
    "        )\n",
    "    )\n",
    "    \n",
    "    plt.plot(\n",
    "        xs,\n",
    "        ys,\n",
    "        marker='o'\n",
    "    )\n",
    "    plt.title(title)\n",
    "    \n",
    "    def _plot_event(col_name, color, label):\n",
    "        plt.axvline(\n",
    "            x=df.Date[df[col_name] == True].values,\n",
    "            color=color,\n",
    "            label=label\n",
    "        )\n",
    "    \n",
    "    _plot_event('Protest', 'blue', 'Protest')\n",
    "    _plot_event('Tear Gas', 'red', 'Tear Gas Incident')\n",
    "    _plot_event('Zero Tolerance', 'green', 'Zero Tolerance Policy')\n",
    "\n",
    "    plt.legend()\n",
    "    \n",
    "    ax = plt.subplot(111)\n",
    "    ax.legend(loc='upper left')"
   ]
  },
  {
   "cell_type": "code",
   "execution_count": null,
   "metadata": {
    "collapsed": true
   },
   "outputs": [],
   "source": []
  },
  {
   "cell_type": "code",
   "execution_count": null,
   "metadata": {
    "collapsed": true
   },
   "outputs": [],
   "source": []
  }
 ],
 "metadata": {
  "kernelspec": {
   "display_name": "Python 2",
   "language": "python",
   "name": "python2"
  },
  "language_info": {
   "codemirror_mode": {
    "name": "ipython",
    "version": 2
   },
   "file_extension": ".py",
   "mimetype": "text/x-python",
   "name": "python",
   "nbconvert_exporter": "python",
   "pygments_lexer": "ipython2",
   "version": "2.7.10"
  }
 },
 "nbformat": 4,
 "nbformat_minor": 0
}
