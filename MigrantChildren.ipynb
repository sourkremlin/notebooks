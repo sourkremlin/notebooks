{
 "cells": [
  {
   "cell_type": "markdown",
   "metadata": {},
   "source": [
    "## Definitions"
   ]
  },
  {
   "cell_type": "markdown",
   "metadata": {},
   "source": [
    "#### HHS - Department of Health and Human Services\n",
    "Cabinet level department whose mandate includes receiving refugees. Current head: [Alex Azar](https://en.wikipedia.org/wiki/Alex_Azar)\n",
    "#### ORR - Office of Refugee Resettlement\n",
    "Program within the HHS that settles refugees. I'll use the term HHS for work that the ORR does, but many sources make the distinction.\n",
    "#### UAC - Unaccompanied Alien Child\n",
    "Legal status given to refugee children when crossing the border, traditionally in cases where a guardian is not present."
   ]
  },
  {
   "cell_type": "markdown",
   "metadata": {},
   "source": [
    "## Analysis"
   ]
  },
  {
   "cell_type": "markdown",
   "metadata": {},
   "source": [
    "The number of detained children that I've found in articles are not apples-to-apples numbers. I've plotted them as such here because I didn't know any better before doing this. I left them this way because I think the distinctions between the reported numbers would be lost on most people unless they were paying a lot of attention to what was going on. \n",
    "\n",
    "Several events are included as vertical lines. I thought they may be influential on both the media's reporting and on the government's methods of reporting the data to fit a narrative.\n",
    "\n",
    "As can be seen below, this cursory look at the numbers doesn't make a bit of sense."
   ]
  },
  {
   "cell_type": "code",
   "execution_count": null,
   "metadata": {
    "collapsed": false
   },
   "outputs": [],
   "source": [
    "plot_reported_detained()"
   ]
  },
  {
   "cell_type": "markdown",
   "metadata": {},
   "source": [
    "When the zero-tolerance policy that required families to be separated at the border was implemented, the only relevant number that could be obtained from the HHS was the total number of UAC. The reason for this being that once the families were split, children were considered UAC and processed the same as children who came without adults.\n",
    "\n",
    "The sharp decline at the end of May is due to this change in reporting. I assume this is because the media was more interested in children who were separated from their family. This would be logical -- it wasn't known at this point that the procedure for UAC who had not been separated from their families would soon be changing. The sharp increase in September is due to the media generally returning to a similar UAC metric (more on that).\n",
    "\n",
    "Plotting only UAC numbers makes more sense for now. It is going up a steady rate. It is clear we are imprisoning more and more children."
   ]
  },
  {
   "cell_type": "code",
   "execution_count": null,
   "metadata": {
    "collapsed": false
   },
   "outputs": [],
   "source": [
    "plot_uac_detained()"
   ]
  },
  {
   "cell_type": "markdown",
   "metadata": {},
   "source": [
    "The executive order that Trump signed on June 20th to end family separation carried with it an extremely important caveat. It served as an excuse to dismantle something referred to as the Flores agreement, which was a set of rules that governed how both UAC and families with children could be treated.\n",
    "\n",
    "The Flores rules were primarily meant to guarantee children certain rights. Basic necessities, such as food, water, medical treatment, running water, etc. were to be provided. Additionally, they would be released and reunited with an adult as soon as possible.\n",
    "\n",
    "Courts also decided that these rights extend to children with families, and by extension the families themselves (since they were not to be separated). Families with children were to be released after twenty days. The Trump administration viewed this as a loophole that led to a \"catch and release\" immigration policy.\n",
    "\n",
    "In summary, doing away with Flores does several things to harm children that I'm focusing on. It removes rules on the treatment of children, so they can be kept in adult detention centers in worse conditions. It also removes the time constraints on how soon a release must happen, whether it be a UAC or a family with childrne. \n",
    "\n",
    "The Flores agreement was always meant to be superceded by a more thought-out legal framework. The only reason it has stuck around for so long is the solutions to it were hard and every attempt by previous administrations had to be rolled back. All it would take is a stroke of a pen and an alibi to remove these protections though. Not only that, since it was not rolling back established law, the framework could be replaced without entering the public record.\n",
    "\n",
    "It wasn't known until later that in addition to removing the protectons provided by Flores, the detainment procedures were altered to be more strict on the adults who were accompanying children at the border. The purported reasoning was to fight human trafficking -- but it's difficult to see it as anything other than an excuse to separate families without calling it separation.\n",
    "\n",
    "The number of UAC reported by the HHS are influenced by these policy changes. I have called the original post zero-tolerance policy for children UAC A in the plot below. This includes children who were unaccompanied by the Flores' definition, and children who were separated from their families.\n",
    "\n",
    "Under immense political pressure, the administration scrubbed through the pool of UAC A to discover which children had been separated from their parents under the new policy. Since no records of this were required and there was little transparency, there is not much reason to believe the numbers. Regardless, a number was produced. This shows up in the plot as separated children. This 'pool' of separated children was reported on for several months and their reunification has been recorded in the plot below from official HHS statements reported by the media.\n",
    "\n",
    "While the number of this pool of separated children was decreasing, the children of UAC who were not considered separated lost their legal protections. I have called this new group UAC B. UAC B continued to grow while the selected group of separated children were reunited with their families. It is important to note that UAC B continued to grow under this more strict policy on which child was unaccompanied. It seems quite likely that after the pool of separated children was made, many children joined UAC B who would have been considered separated prior to the new rules.\n",
    "\n",
    "The number of children in the UAC B group was not reported on while separated children were being reported on. I have taken the liberty of linearly interpolating the end of UAC A reporting to the beginning of UAC B reporting, while subtracting out the number of separated children where that number is available. It's also worth noting that the period of June in the plot doesn't really make sense -- the three groups plotted below should never all be active at the same time. I haven't fixed it primarily because it's not public knowledge when exactly these policies were changed and for now I'll leave it as a sort of transition zone."
   ]
  },
  {
   "cell_type": "code",
   "execution_count": null,
   "metadata": {
    "collapsed": false
   },
   "outputs": [],
   "source": [
    "plot_stacked_immigration_types()"
   ]
  },
  {
   "cell_type": "markdown",
   "metadata": {},
   "source": [
    "The above plot fails to capture a newly created group -- families with children who can now be detained indefinitely in adult detention centers. I have not seen any reporting on what this number might be, but we can maybe approximate it.\n",
    "\n",
    "The last reported number I have for UAC A is about 10,000, and from this the pool of 2600 separated children was created. If it can be extrapolated that roughly 25% of children who would have been separated are now placed in adult detention centers with their families, then an additional 25% of all increases to UAC B will have been sent to adult detention centers.\n",
    "\n",
    "This is plotted below. I am also assuming no family releases during this time, which I don't find too unreasonable since the stated goal of the administration is to end \"catch and release\"."
   ]
  },
  {
   "cell_type": "code",
   "execution_count": null,
   "metadata": {
    "collapsed": false
   },
   "outputs": [],
   "source": [
    "plot_stacked_immigration_plus_adult()"
   ]
  },
  {
   "cell_type": "markdown",
   "metadata": {},
   "source": [
    "It's also now required that HHS perform a background check on child sponsors. The results of this background check are shared with ICE and without any limitations on its use -- they can arrest anyone they deem a criminal. Notably, just being undocumented is considered criminality and they have been deporting such people. It's entirely logical that this would prevent many sponsors from releasing children, even in cases where they are US citizens. This, combined with the lack of Flores rules for the prompt release of children, means that we can expect much longer wait times for release in the future."
   ]
  },
  {
   "cell_type": "code",
   "execution_count": null,
   "metadata": {
    "collapsed": false
   },
   "outputs": [],
   "source": [
    "plot_sponsors_arrested()"
   ]
  },
  {
   "cell_type": "markdown",
   "metadata": {},
   "source": [
    "## Summary"
   ]
  },
  {
   "cell_type": "markdown",
   "metadata": {},
   "source": [
    "Thread. The reporting on Trump’s immigration policy has been downright confusing (for me, at least). I spent hours last night reading old articles and immigration law to figure this out. Spoiler: Our government is really, truly building permanent internment camps on the border.\n",
    "\n",
    "1/ The number of detained children being reported about fluctuated wildly over time. This is because the metrics the media has been interested in have changed with time due to changing immigration policies.\n",
    "\n",
    "2/ When zero-tolerance policy was introduced in April, numbers reported were generally for all “unaccompanied alien children” (UAC) in custody. It had to be this way, once a child was separated they became unaccompanied. Prior, UAC status did not apply to children w/families\n",
    "\n",
    "3/ Reported numbers during late May (UAC including separated children): ~8000-10000\n",
    "\n",
    "4/ News articles at this time focused on children separated from their families, which is a number that could NOT be reported because it wasn’t split from UAC number. In early June, involved govt orgs supposedly did a scrub of UAC to find those which had been separated at the border.\n",
    "\n",
    "5/ Reported numbers during mid June (Separated children): ~2500\n",
    "\n",
    "6/ June 20th, under immense political pressure, that stupid orange guy signed an executive order to “keep” families together (in detention). The “compromise” through which this accomplished was the removal of something called the Flores agreement.\n",
    "\n",
    "7/ Flores rules that both a family w/children and UAC must be released within 20 days. The WH viewed this as a loophole that led to “catch and release”, which they wanted to end. So what was traded was family separation vs. indefinite detention of literally all children.\n",
    "\n",
    "8/ In addition to limits on the length of detention, Flores rules ensured basic services for all UAC such as education, medical care, etc.\n",
    "\n",
    "9/ During this time, the majority of the “original” separated children were handled. Reported numbers during late August (Separated children): ~500\n",
    "\n",
    "10/ After this, the press started to report on the total number of UAC. This does not include children who were originally reported on as being separated, because those children were now being detained with their families in adult detention centers.\n",
    "\n",
    "11/ Reported numbers during early September (new definition of UAC, minus some children who might have been separated): ~12000\n",
    "\n",
    "12/ The rules determining whether an adult “accompanied” a child were changed significantly as well. For example, an aunt traveling with a child might now not be considered close enough, and the child would then be UAC.\n",
    "\n",
    "13/ Health and Human Services (HHS) who are responsible for UAC are now required to share information on child sponsors with ICE, where they vet the entire household for “criminality”. This concept of criminality includes being in the US illegally.\n",
    "\n",
    "14/ Reported numbers during mid December (new definition of UAC, minus some children who might have been separated): ~14500\n",
    "\n",
    "15/ THE SITUATION IS GETTING WORSE"
   ]
  },
  {
   "cell_type": "markdown",
   "metadata": {},
   "source": [
    "## Sources"
   ]
  },
  {
   "cell_type": "markdown",
   "metadata": {},
   "source": [
    "Links are referred to by their bracketed number in the raw data, so each bit of data is traceable.\n",
    "\n",
    "In cases where a range is given (e.g. 4-6 months), the average of the range (5 months) is chosen.\n",
    "\n",
    "* [NPR, December 13th [1]](https://www.npr.org/2018/12/13/676300525/almost-15-000-migrant-children-now-held-at-nearly-full-shelters)\n",
    "* [SF Chronicle, November 9th, [2]](https://www.sfchronicle.com/nation/article/More-than-14-000-immigrant-children-are-in-U-S-13399510.php)\n",
    "* [Washington Post, August 30th, [3]](https://www.washingtonpost.com/local/immigration/still-separated-nearly-500-separated-migrant-children-remain-in-us-custody/2018/08/30/6dbd8278-aa09-11e8-8a0c-70b618c98d3c_story.html?utm_term=.db8790abe02a)\n",
    "* [CNN, December 10th, [4]](https://www.cnn.com/2018/12/10/politics/ice-potential-sponsors-arrests/index.html)\n",
    "* [CNN, September 14th, [5]](https://www.cnn.com/2018/09/14/politics/immigrant-children-kept-detention/index.html)\n",
    "* [WSJ, October 19th, [6]](https://www.wsj.com/articles/immigrant-children-are-staying-longer-in-government-custody-1539941401)\n",
    "* [Washington Post, May 29th, [7]](https://www.washingtonpost.com/world/national-security/trumps-zero-tolerance-at-the-border-is-causing-child-shelters-to-fill-up-fast/2018/05/29/7aab0ae4-636b-11e8-a69c-b944de66d9e7_story.html?utm_term=.831c55ba33e5)\n",
    "* [Guardian, September 21st, [8]](https://www.theguardian.com/us-news/2018/sep/21/ice-arrests-undocumented-immigrants-sponsoring-migrant-children)\n",
    "* [MoveOn, June 30th, [9]](https://act.moveon.org/event/families-belong-together_attend1/search/)\n",
    "* [NYT, November 25th, [10]](https://www.nytimes.com/2018/11/25/world/americas/tijuana-mexico-border.html)\n",
    "* [Washington Post, June 20th, [11]](https://www.washingtonpost.com/powerpost/gop-leaders-voice-hope-that-bill-addressing-family-separations-will-pass-thursday/2018/06/20/cc79db9a-7480-11e8-b4b7-308400242c2e_story.html)\n",
    "* [Washington Post, May 7th, [12]](https://www.washingtonpost.com/world/national-security/sessions-says-justice-dept-will-prosecute-every-person-who-crosses-border-unlawfully/2018/05/07/e1312b7e-5216-11e8-9c91-7dab596e8252_story.html)\n",
    "* [Justice For Immigrants, Undated, [13]](https://justiceforimmigrants.org/what-we-are-working-on/unaccompanied-children/orr-and-dhs-information-sharing-agreement-its-consequences/)"
   ]
  },
  {
   "cell_type": "markdown",
   "metadata": {},
   "source": [
    "## Raw Data"
   ]
  },
  {
   "cell_type": "code",
   "execution_count": null,
   "metadata": {
    "collapsed": false
   },
   "outputs": [],
   "source": [
    "disp_data(df)"
   ]
  },
  {
   "cell_type": "code",
   "execution_count": null,
   "metadata": {
    "collapsed": false
   },
   "outputs": [],
   "source": [
    "disp_data(event_df)"
   ]
  },
  {
   "cell_type": "markdown",
   "metadata": {},
   "source": [
    "## Code"
   ]
  },
  {
   "cell_type": "code",
   "execution_count": null,
   "metadata": {
    "collapsed": false
   },
   "outputs": [],
   "source": [
    "%matplotlib inline\n",
    "import pandas as pd\n",
    "import numpy as np\n",
    "import datetime\n",
    "import collections\n",
    "\n",
    "import matplotlib.pyplot as plt\n",
    "plt.rcParams['figure.figsize'] = [15, 8]\n",
    "\n",
    "import copy"
   ]
  },
  {
   "cell_type": "code",
   "execution_count": null,
   "metadata": {
    "collapsed": false
   },
   "outputs": [],
   "source": [
    "def make_row(\n",
    "        link,\n",
    "        date,\n",
    "        detained=None, # Number detained children as reported by any metric\n",
    "        uac_detained_def1=None, # Number detained children during zero-tolerance, = UAC + separated children\n",
    "        separated_detained=None, # Number of detained children who were determined to be separated in June\n",
    "        uac_detained_def2=None, # Number of detained children post zero-tolerance, = UAC - children with families,\n",
    "        uac_detained_all_def=None, # Number of detained UAC, all definitions\n",
    "        detention_time_official=None, # Officially stated averange detention time from HHS\n",
    "        detention_time_unofficial=None, # Unreliable comments about actual detention time from people on ground\n",
    "        sponsors_arrested=None, # Number of child sponsors arrested by ICE\n",
    "        cost=None, # Accumulated cost post zero tolerance. Might be hard to find data.\n",
    "    ):\n",
    "    \n",
    "    row_data = collections.OrderedDict()\n",
    "    row_data['Link'] = link\n",
    "    row_data['Date'] = date\n",
    "    row_data['Detained'] = detained\n",
    "    row_data['UAC Detained Def1'] = uac_detained_def1\n",
    "    row_data['UAC Detained Def2'] = uac_detained_def2\n",
    "    row_data['UAC Detained'] = uac_detained_all_def\n",
    "    row_data['Separated Detained'] = separated_detained\n",
    "    row_data['Detention Time Official (days)'] = detention_time_official\n",
    "    row_data['Detention Time Unofficial (days)'] = detention_time_unofficial\n",
    "    row_data['Sponsors Arrested'] = sponsors_arrested\n",
    "    row_data['Accumulated Cost ($million)'] = cost\n",
    "    return row_data\n",
    "\n",
    "data = [\n",
    "    make_row(\n",
    "        1,\n",
    "        datetime.date(2018, 12, 13),\n",
    "        detained=14700,\n",
    "        uac_detained_def2=14700,\n",
    "        uac_detained_all_def=14700,\n",
    "        detention_time_official=50,\n",
    "        detention_time_unofficial=243.334\n",
    "    ),\n",
    "    make_row(\n",
    "        2,\n",
    "        datetime.date(2018, 11, 9),\n",
    "        detained=14056,\n",
    "        uac_detained_def2=14056,\n",
    "        uac_detained_all_def=14056,\n",
    "        cost=80\n",
    "    ),\n",
    "    make_row(\n",
    "        3,\n",
    "        datetime.date(2018, 8, 30),\n",
    "        detained=497,\n",
    "        separated_detained=497\n",
    "    ),\n",
    "    make_row(\n",
    "        3,\n",
    "        datetime.date(2018, 7, 31),\n",
    "        detained=1200,\n",
    "        separated_detained=1200\n",
    "    ),\n",
    "    make_row(\n",
    "        3,\n",
    "        datetime.date(2018, 6, 20),\n",
    "        detained=2600,\n",
    "        separated_detained=2600,\n",
    "    ),\n",
    "    #make_row(\n",
    "    #    3,\n",
    "    #    datetime.date(2018, 6, 19),\n",
    "    #    uac_detained_def1=0\n",
    "    #),\n",
    "    make_row(\n",
    "        4,\n",
    "        datetime.date(2018, 7, 1),\n",
    "        sponsors_arrested=0\n",
    "    ),\n",
    "    make_row(\n",
    "        4,\n",
    "        datetime.date(2018, 11, 30),\n",
    "        sponsors_arrested=170\n",
    "    ),\n",
    "    make_row(\n",
    "        5,\n",
    "        datetime.date(2018, 9, 14),\n",
    "        detained=12800,\n",
    "        uac_detained_def2=12800,\n",
    "        uac_detained_all_def=12800\n",
    "    ),\n",
    "    make_row(\n",
    "        6,\n",
    "        datetime.date(2018, 10, 19),\n",
    "        detention_time_official=59,\n",
    "        detention_time_unofficial=136\n",
    "    ),\n",
    "    make_row(\n",
    "        6,\n",
    "        datetime.date(2018, 6, 30),\n",
    "        detention_time_official=56\n",
    "    ),\n",
    "    make_row(\n",
    "        7,\n",
    "        datetime.date(2018, 5, 29),\n",
    "        detained=10073,\n",
    "        uac_detained_def1=10073,\n",
    "        uac_detained_all_def=10073\n",
    "    ),\n",
    "    make_row(\n",
    "        7,\n",
    "        datetime.date(2018, 4, 29),\n",
    "        detained=8886,\n",
    "        uac_detained_def1=8886,\n",
    "        uac_detained_all_def=8886\n",
    "    ),\n",
    "    make_row(\n",
    "        8,\n",
    "        datetime.date(2018, 9, 21),\n",
    "        sponsors_arrested=41\n",
    "    ),\n",
    "]\n",
    "df = pd.DataFrame(data=data)"
   ]
  },
  {
   "cell_type": "code",
   "execution_count": null,
   "metadata": {
    "collapsed": false
   },
   "outputs": [],
   "source": [
    "# label: (link #, date, color)\n",
    "raw_events = {\n",
    "    'Tear Gas': (\n",
    "        10,\n",
    "        datetime.date(2018, 11, 25),\n",
    "        'red'\n",
    "    ),\n",
    "    'Zero Tolerance Policy': (\n",
    "        11,\n",
    "        datetime.date(2018, 4, 7),\n",
    "        'green'\n",
    "    ),\n",
    "    'Mass Protest': (\n",
    "        9,\n",
    "        datetime.date(2018, 6, 30),\n",
    "        'blue'\n",
    "    ),\n",
    "    'Information Sharing HHS/ICE': (\n",
    "        13,\n",
    "        datetime.date(2018, 4, 13),\n",
    "        'green'\n",
    "    ),\n",
    "    'Executive Order': (\n",
    "        11,\n",
    "        datetime.date(2018, 6, 20),\n",
    "        'green'\n",
    "    )\n",
    "}\n",
    "event_data = collections.defaultdict(list)\n",
    "for name in raw_events.iterkeys():\n",
    "    event_data['Name'].append(name)\n",
    "    event_data['Link'].append(raw_events[name][0])\n",
    "    event_data['Date'].append(raw_events[name][1])\n",
    "\n",
    "event_df = pd.DataFrame(\n",
    "    data=event_data\n",
    ")"
   ]
  },
  {
   "cell_type": "code",
   "execution_count": null,
   "metadata": {
    "collapsed": false
   },
   "outputs": [],
   "source": [
    "def time_evolution(df, y_column, title, events):\n",
    "    ys_mask = np.isfinite(df[y_column].values)\n",
    "    ys = df[y_column].values[ys_mask]\n",
    "    xs = df.Date.values[ys_mask]\n",
    "    \n",
    "    xs, ys = zip( *sorted( zip(xs, ys) ) )\n",
    "    \n",
    "    plt.xlim = (\n",
    "        min(\n",
    "            df.Date.unique() - datetime.timedelta(days=20)\n",
    "        ),\n",
    "        max(\n",
    "            df.Date.unique() + datetime.timedelta(days=20)\n",
    "        )\n",
    "    )\n",
    "    plt.ylim = (\n",
    "        0.0,\n",
    "        max(\n",
    "            ys\n",
    "        )\n",
    "    )\n",
    "    \n",
    "    plt.plot(\n",
    "        xs,\n",
    "        ys,\n",
    "        marker='o'\n",
    "    )\n",
    "    plt.title(title)\n",
    "    \n",
    "    def _plot_event(col_name, color, label):\n",
    "        plt.axvline(\n",
    "            x=df.Date[df[col_name] == True].values,\n",
    "            color=color,\n",
    "            label=label\n",
    "        )\n",
    "    \n",
    "    for event in events:\n",
    "        link_id, date, color = raw_events[event]\n",
    "        \n",
    "        plt.axvline(\n",
    "            x=date,\n",
    "            color=color,\n",
    "            label='{0} [{1}]'.format(event, link_id)\n",
    "        )\n",
    "\n",
    "    plt.legend()\n",
    "    \n",
    "    ax = plt.subplot(111)\n",
    "    ax.legend(loc='upper left')"
   ]
  },
  {
   "cell_type": "code",
   "execution_count": null,
   "metadata": {
    "collapsed": true
   },
   "outputs": [],
   "source": [
    "def disp_data(df):\n",
    "    return df.sort_values(by='Date').reset_index().drop('index', axis=1)"
   ]
  },
  {
   "cell_type": "code",
   "execution_count": null,
   "metadata": {
    "collapsed": true
   },
   "outputs": [],
   "source": [
    "def plot_reported_detained():\n",
    "    time_evolution(\n",
    "        df, 'Detained', 'Number of Reported Detained Children By Date',\n",
    "        events=['Mass Protest', 'Tear Gas', 'Executive Order']\n",
    "    )"
   ]
  },
  {
   "cell_type": "code",
   "execution_count": null,
   "metadata": {
    "collapsed": true
   },
   "outputs": [],
   "source": [
    "def plot_uac_detained():\n",
    "    time_evolution(\n",
    "        df, 'UAC Detained', 'Number of UAC By Date',\n",
    "        events=['Mass Protest', 'Tear Gas', 'Executive Order']\n",
    "    )"
   ]
  },
  {
   "cell_type": "code",
   "execution_count": null,
   "metadata": {
    "collapsed": false
   },
   "outputs": [],
   "source": [
    "def plot_stacked_immigration_types():\n",
    "    f = copy.deepcopy(df)\n",
    "    \n",
    "    # sorting by date eases eventual plotting, because sorted dates are needed to plot\n",
    "    # and the values should be masked by sorted dates\n",
    "    f = f.sort_values(by='Date').reset_index().drop('index', axis=1)\n",
    "    uac1_mask = np.isfinite(f['UAC Detained Def1'].values)\n",
    "    separated_mask = np.isfinite(f['Separated Detained'].values)\n",
    "    uac2_mask = np.isfinite(f['UAC Detained Def2'].values)\n",
    "    uac1_separated_mask = (uac1_mask == True) | (separated_mask == True)\n",
    "    uac1_separated_uac2_mask = (uac1_separated_mask == True) | (uac2_mask == True)\n",
    "\n",
    "    labels = [\n",
    "        'UAC Definition 1',\n",
    "        'Separated Children',\n",
    "        'UAC Definition 2',\n",
    "    ]\n",
    "    \n",
    "    # [ [uac def 1, ...], [separated, ...], [uac def 2, ...] ]\n",
    "    \n",
    "    # The values are deep-copied here to preserve the pre-interpolated values\n",
    "    uac1_values = copy.deepcopy(f['UAC Detained Def1'].values)\n",
    "    separated_values = copy.deepcopy(f['Separated Detained'].values)\n",
    "    uac2_values = copy.deepcopy(f['UAC Detained Def2'].values)\n",
    "    \n",
    "    # The frame is interpolated so we can get a UAC all definition that exists over separated values\n",
    "    uac_values = copy.deepcopy(f.interpolate()['UAC Detained'].values)\n",
    "    \n",
    "    # UAC1 is mutually exclusive with the others.\n",
    "    uac1_values[np.isnan(uac1_values)] = 0.0\n",
    "    \n",
    "    # In the raw data, separated is mutually exclusive from UAC1 and UAC2 reporting\n",
    "    separated_values[np.isnan(separated_values)] = 0.0\n",
    "    \n",
    "    # Mutually exclusive from Def 1\n",
    "    uac2_values[uac1_mask] = 0.0\n",
    "    \n",
    "    # derived in the case where separated values are provided\n",
    "    uac2_values[separated_mask] = uac_values[separated_mask] - separated_values[separated_mask]\n",
    "    \n",
    "    dates, uac1_val, sep_val, uac2_val = zip(\n",
    "        *sorted(\n",
    "            zip(\n",
    "                f.Date.values[uac1_separated_uac2_mask],\n",
    "                uac1_values[uac1_separated_uac2_mask],\n",
    "                separated_values[uac1_separated_uac2_mask],\n",
    "                uac2_values[uac1_separated_uac2_mask]\n",
    "            )\n",
    "        )\n",
    "    )\n",
    "\n",
    "    plt.stackplot(\n",
    "        dates,\n",
    "        [\n",
    "            uac1_val,\n",
    "            sep_val,\n",
    "            uac2_val\n",
    "        ],\n",
    "        labels=labels\n",
    "    )\n",
    "    plt.legend(loc='upper left')"
   ]
  },
  {
   "cell_type": "code",
   "execution_count": null,
   "metadata": {
    "collapsed": false
   },
   "outputs": [],
   "source": [
    "def plot_stacked_immigration_plus_adult():\n",
    "    f = copy.deepcopy(df)\n",
    "    \n",
    "    # sorting by date eases eventual plotting, because sorted dates are needed to plot\n",
    "    # and the values should be masked by sorted dates\n",
    "    f = f.sort_values(by='Date').reset_index().drop('index', axis=1)\n",
    "    uac1_mask = np.isfinite(f['UAC Detained Def1'].values)\n",
    "    separated_mask = np.isfinite(f['Separated Detained'].values)\n",
    "    uac2_mask = np.isfinite(f['UAC Detained Def2'].values)\n",
    "    uac1_separated_mask = (uac1_mask == True) | (separated_mask == True)\n",
    "    uac1_separated_uac2_mask = (uac1_separated_mask == True) | (uac2_mask == True)\n",
    "    separated_uac2_mask = (separated_mask == True) | (uac2_mask == True)\n",
    "\n",
    "    labels = [\n",
    "        'UAC A',\n",
    "        'Separated Children',\n",
    "        'UAC B',\n",
    "        'Children in Adult Detention',\n",
    "    ]\n",
    "    \n",
    "    # [ [uac def 1, ...], [separated, ...], [uac def 2, ...] ]\n",
    "    \n",
    "    # The values are deep-copied here to preserve the pre-interpolated values\n",
    "    uac1_values = copy.deepcopy(f['UAC Detained Def1'].values)\n",
    "    separated_values = copy.deepcopy(f['Separated Detained'].values)\n",
    "    uac2_values = copy.deepcopy(f['UAC Detained Def2'].values)\n",
    "    \n",
    "    # The frame is interpolated so we can get a UAC all definition that exists over separated values\n",
    "    uac_values = copy.deepcopy(f.interpolate()['UAC Detained'].values)\n",
    "    \n",
    "    adult_values = np.zeros(len(uac_values))\n",
    "    adult_values[separated_uac2_mask] = np.append(\n",
    "        # The first data point here is a special case\n",
    "        [.25 * (uac_values[separated_uac2_mask][0] - uac_values[uac1_mask][-1]) ],\n",
    "        np.add.accumulate(\n",
    "            .25 * (np.diff(uac_values[separated_uac2_mask]))\n",
    "        )\n",
    "    )\n",
    "\n",
    "    # UAC1 is mutually exclusive with the others.\n",
    "    uac1_values[np.isnan(uac1_values)] = 0.0\n",
    "    \n",
    "    # In the raw data, separated is mutually exclusive from UAC1 and UAC2 reporting\n",
    "    separated_values[np.isnan(separated_values)] = 0.0\n",
    "    \n",
    "    # Mutually exclusive from Def 1\n",
    "    uac2_values[uac1_mask] = 0.0\n",
    "    \n",
    "    # derived in the case where separated values are provided\n",
    "    uac2_values[separated_mask] = uac_values[separated_mask] - separated_values[separated_mask]\n",
    "    \n",
    "    dates, uac1_val, sep_val, uac2_val, adult_val = zip(\n",
    "        *sorted(\n",
    "            zip(\n",
    "                f.Date.values[uac1_separated_uac2_mask],\n",
    "                uac1_values[uac1_separated_uac2_mask],\n",
    "                separated_values[uac1_separated_uac2_mask],\n",
    "                uac2_values[uac1_separated_uac2_mask],\n",
    "                adult_values[uac1_separated_uac2_mask]\n",
    "            )\n",
    "        )\n",
    "    )\n",
    "\n",
    "    plt.stackplot(\n",
    "        dates,\n",
    "        [\n",
    "            uac1_val,\n",
    "            sep_val,\n",
    "            uac2_val,\n",
    "            adult_val\n",
    "        ],\n",
    "        labels=labels\n",
    "    )\n",
    "    plt.legend(loc='upper left')"
   ]
  },
  {
   "cell_type": "code",
   "execution_count": null,
   "metadata": {
    "collapsed": true
   },
   "outputs": [],
   "source": [
    "def plot_sponsors_arrested():\n",
    "    f = copy.deepcopy(df)\n",
    "    start_date = raw_events['Information Sharing HHS/ICE'][1]\n",
    "    \n",
    "    first_arrest_data_date = f.Date[f['Sponsors Arrested'] == 0.0].values[0]\n",
    "    \n",
    "    for idx in f.index:\n",
    "        if f.iloc[idx].Date < first_arrest_data_date:\n",
    "            f.at[idx, 'Sponsors Arrested'] = 0.0\n",
    "    \n",
    "    time_evolution(\n",
    "        f, 'Sponsors Arrested', 'Sponsors Arrested By Date',\n",
    "        events=['Mass Protest', 'Tear Gas', 'Executive Order']\n",
    "    )"
   ]
  }
 ],
 "metadata": {
  "kernelspec": {
   "display_name": "Python 2",
   "language": "python",
   "name": "python2"
  },
  "language_info": {
   "codemirror_mode": {
    "name": "ipython",
    "version": 2
   },
   "file_extension": ".py",
   "mimetype": "text/x-python",
   "name": "python",
   "nbconvert_exporter": "python",
   "pygments_lexer": "ipython2",
   "version": "2.7.10"
  }
 },
 "nbformat": 4,
 "nbformat_minor": 0
}
